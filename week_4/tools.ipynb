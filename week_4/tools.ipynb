{
 "cells": [
  {
   "attachments": {},
   "cell_type": "markdown",
   "metadata": {},
   "source": [
    "**REGRESSION WITH SCIKIT LEARN**\n",
    "\n",
    "Take a look at the Linnerud dataset in Scikit-learn. This dataset has multiple targets: 'It consists of three exercise (data) and three physiological (target) variables collected from twenty middle-aged men in a fitness club'.\n",
    "\n",
    "In your own words, describe how to create a Regression model that would plot the relationship between the waistline and how many situps are accomplished. Do the same for the other datapoints in this dataset."
   ]
  },
  {
   "attachments": {},
   "cell_type": "markdown",
   "metadata": {},
   "source": [
    "**LET GET STARTED**\n",
    "\n",
    "To create a regression model that plots the relationship between the waistline and the number of sit-ups accomplished using the Linnerud dataset in Scikit-learn, you can follow these steps:\n",
    "\n",
    "Load the Linnerud dataset using the load_linnerud() function from Scikit-learn's datasets module. This dataset contains both exercise (data) and physiological (target) variables"
   ]
  },
  {
   "cell_type": "code",
   "execution_count": 26,
   "metadata": {},
   "outputs": [],
   "source": [
    "#Importing the labries\n",
    "import numpy as np\n",
    "import matplotlib.pyplot  as plt\n",
    "from sklearn import datasets \n",
    "from sklearn.datasets import load_linnerud\n",
    "from sklearn.linear_model import  LinearRegression\n",
    "from sklearn import model_selection"
   ]
  },
  {
   "attachments": {},
   "cell_type": "markdown",
   "metadata": {},
   "source": [
    "let get to know the shape of the dataset by printing it."
   ]
  },
  {
   "cell_type": "code",
   "execution_count": 27,
   "metadata": {},
   "outputs": [
    {
     "name": "stdout",
     "output_type": "stream",
     "text": [
      "(20, 3)\n",
      "[  5. 162.  60.]\n"
     ]
    }
   ],
   "source": [
    "X, y = datasets.load_linnerud(return_X_y=True)\n",
    "print(X.shape)\n",
    "print(X[0])\n"
   ]
  },
  {
   "attachments": {},
   "cell_type": "markdown",
   "metadata": {},
   "source": [
    "What you are getting back as a response, is a tuple. What you are doing is to assign the two first values of the tuple to X and y respectively.\n",
    "\n",
    "You can see that this data has 20 items shaped in arrays of 3 elements\n"
   ]
  },
  {
   "cell_type": "code",
   "execution_count": 28,
   "metadata": {},
   "outputs": [],
   "source": [
    "df= load_linnerud()\n"
   ]
  },
  {
   "attachments": {},
   "cell_type": "markdown",
   "metadata": {},
   "source": [
    "The relevant data and target variables should be extracted from the collection of data. We're interested in the 'waist' variable, which represents waistline measurements, and the'situps' variable, which represents the number of sit-ups completed in this case."
   ]
  },
  {
   "cell_type": "code",
   "execution_count": 29,
   "metadata": {},
   "outputs": [],
   "source": [
    "waistline =df.data[:, 0] #measurements of the waistline\n",
    "situp = df.target[:,0] #number of the sit-up accomplished"
   ]
  },
  {
   "attachments": {},
   "cell_type": "markdown",
   "metadata": {},
   "source": [
    "**let create the linear regeression**"
   ]
  },
  {
   "cell_type": "code",
   "execution_count": 30,
   "metadata": {},
   "outputs": [],
   "source": [
    "X_train, X_test, y_train, y_test = model_selection.train_test_split(X, y, test_size=0.33) #splitting the dataset into train set split"
   ]
  },
  {
   "cell_type": "code",
   "execution_count": 31,
   "metadata": {},
   "outputs": [],
   "source": [
    "model = LinearRegression() # Creating the model"
   ]
  },
  {
   "attachments": {},
   "cell_type": "markdown",
   "metadata": {},
   "source": [
    "**Fit Function**\n",
    "\n",
    "In machine learning, the fit function is used to train a model on a given dataset. When you call the fit function, the model adjusts its internal parameters based on the provided input data and corresponding target values. This process is often referred to as model training or model fitting."
   ]
  },
  {
   "cell_type": "code",
   "execution_count": 32,
   "metadata": {},
   "outputs": [
    {
     "data": {
      "text/plain": [
       "LinearRegression()"
      ]
     },
     "execution_count": 32,
     "metadata": {},
     "output_type": "execute_result"
    }
   ],
   "source": [
    "model.fit(waistline.reshape(-1, 1), situp)"
   ]
  },
  {
   "cell_type": "code",
   "execution_count": 33,
   "metadata": {},
   "outputs": [
    {
     "data": {
      "text/plain": [
       "array([186.69959507, 192.15999623, 173.95865901, 173.95865901,\n",
       "       172.13852528, 188.51972879, 181.2391939 , 184.87946134,\n",
       "       168.49825784, 164.85799039, 164.85799039, 172.13852528,\n",
       "       170.31839156, 193.98012996, 184.87946134, 173.95865901,\n",
       "       188.51972879, 175.77879273, 168.49825784, 192.15999623])"
      ]
     },
     "execution_count": 33,
     "metadata": {},
     "output_type": "execute_result"
    }
   ],
   "source": [
    "pred = model.predict(waistline.reshape(-1,1))\n",
    "pred"
   ]
  },
  {
   "attachments": {},
   "cell_type": "markdown",
   "metadata": {},
   "source": [
    "after making the prediction of model then,we make the visualiation of the model(the ralationship between the waistline and the situp)"
   ]
  },
  {
   "cell_type": "code",
   "execution_count": 35,
   "metadata": {},
   "outputs": [
    {
     "data": {
      "image/png": "[encoded data removed]",
      "text/plain": [
       "<Figure size 432x288 with 1 Axes>"
      ]
     },
     "metadata": {
      "needs_background": "light"
     },
     "output_type": "display_data"
    }
   ],
   "source": [
    "#let plot the relationship between the situp and the  waistline\n",
    "plt.scatter(waistline, situp, color = 'red', label = 'Actual')\n",
    "plt.plot(waistline, pred , color ='black', linewidth= 2, label ='Predicted')\n",
    "plt.xlabel('waistline')\n",
    "plt.ylabel('Sit-up')\n",
    "plt.title('Relationship between waistlie and sit-up \\n')\n",
    "plt.legend()\n",
    "plt.show()"
   ]
  },
  {
   "cell_type": "code",
   "execution_count": null,
   "metadata": {},
   "outputs": [],
   "source": []
  }
 ],
 "metadata": {
  "kernelspec": {
   "display_name": "base",
   "language": "python",
   "name": "python3"
  },
  "language_info": {
   "codemirror_mode": {
    "name": "ipython",
    "version": 3
   },
   "file_extension": ".py",
   "mimetype": "text/x-python",
   "name": "python",
   "nbconvert_exporter": "python",
   "pygments_lexer": "ipython3",
   "version": "3.8.8"
  },
  "orig_nbformat": 4
 },
 "nbformat": 4,
 "nbformat_minor": 2
}
