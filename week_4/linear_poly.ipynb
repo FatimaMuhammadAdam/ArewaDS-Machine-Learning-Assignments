{
 "cells": [
  {
   "attachments": {},
   "cell_type": "markdown",
   "metadata": {},
   "source": [
    "**Create a Regression Model:**\n",
    "\n",
    "Instructions\n",
    "In this lesson you were shown how to build a model using both Linear and Polynomial Regression. Using this knowledge, find a dataset or use one of Scikit-learn's built-in sets to build a fresh model. Explain in your notebook why you chose the technique you did, and demonstrate your model's accuracy. If it is not accurate, explain why"
   ]
  },
  {
   "attachments": {
    "image.png": {
     "image/png": "[encoded data removed]"
    }
   },
   "cell_type": "markdown",
   "metadata": {},
   "source": [
    "**Building a REGRESSION  Model Using the following types:**\n",
    "\n",
    "**Linear**\n",
    "\n",
    "**Polynomial Regression**\n",
    "\n",
    "![image.png](attachment:image.png)"
   ]
  },
  {
   "cell_type": "code",
   "execution_count": 37,
   "metadata": {},
   "outputs": [],
   "source": [
    "#IMPORTING LABRIES\n",
    "import numpy as np \n",
    "import pandas as pd\n",
    "from sklearn.linear_model import LinearRegression\n",
    "from sklearn.model_selection import train_test_split\n",
    "from sklearn.preprocessing import PolynomialFeatures\n",
    "from sklearn.metrics import mean_absolute_error, r2_score\n",
    "import matplotlib.pyplot as plt"
   ]
  },
  {
   "attachments": {},
   "cell_type": "markdown",
   "metadata": {},
   "source": [
    "We're going to use dataset from kaggle, insurance dataset. The aim of the project is to estimate the approximate cost of a person's health insurance based on the given variables. and we're going to use 'charges' column as our target varibles. "
   ]
  },
  {
   "cell_type": "code",
   "execution_count": 38,
   "metadata": {},
   "outputs": [
    {
     "data": {
      "text/html": [
       "<div>\n",
       "<style scoped>\n",
       "    .dataframe tbody tr th:only-of-type {\n",
       "        vertical-align: middle;\n",
       "    }\n",
       "\n",
       "    .dataframe tbody tr th {\n",
       "        vertical-align: top;\n",
       "    }\n",
       "\n",
       "    .dataframe thead th {\n",
       "        text-align: right;\n",
       "    }\n",
       "</style>\n",
       "<table border=\"1\" class=\"dataframe\">\n",
       "  <thead>\n",
       "    <tr style=\"text-align: right;\">\n",
       "      <th></th>\n",
       "      <th>age</th>\n",
       "      <th>sex</th>\n",
       "      <th>bmi</th>\n",
       "      <th>children</th>\n",
       "      <th>smoker</th>\n",
       "      <th>region</th>\n",
       "      <th>charges</th>\n",
       "    </tr>\n",
       "  </thead>\n",
       "  <tbody>\n",
       "    <tr>\n",
       "      <th>0</th>\n",
       "      <td>19</td>\n",
       "      <td>female</td>\n",
       "      <td>27.900</td>\n",
       "      <td>0</td>\n",
       "      <td>yes</td>\n",
       "      <td>southwest</td>\n",
       "      <td>16884.92400</td>\n",
       "    </tr>\n",
       "    <tr>\n",
       "      <th>1</th>\n",
       "      <td>18</td>\n",
       "      <td>male</td>\n",
       "      <td>33.770</td>\n",
       "      <td>1</td>\n",
       "      <td>no</td>\n",
       "      <td>southeast</td>\n",
       "      <td>1725.55230</td>\n",
       "    </tr>\n",
       "    <tr>\n",
       "      <th>2</th>\n",
       "      <td>28</td>\n",
       "      <td>male</td>\n",
       "      <td>33.000</td>\n",
       "      <td>3</td>\n",
       "      <td>no</td>\n",
       "      <td>southeast</td>\n",
       "      <td>4449.46200</td>\n",
       "    </tr>\n",
       "    <tr>\n",
       "      <th>3</th>\n",
       "      <td>33</td>\n",
       "      <td>male</td>\n",
       "      <td>22.705</td>\n",
       "      <td>0</td>\n",
       "      <td>no</td>\n",
       "      <td>northwest</td>\n",
       "      <td>21984.47061</td>\n",
       "    </tr>\n",
       "    <tr>\n",
       "      <th>4</th>\n",
       "      <td>32</td>\n",
       "      <td>male</td>\n",
       "      <td>28.880</td>\n",
       "      <td>0</td>\n",
       "      <td>no</td>\n",
       "      <td>northwest</td>\n",
       "      <td>3866.85520</td>\n",
       "    </tr>\n",
       "    <tr>\n",
       "      <th>...</th>\n",
       "      <td>...</td>\n",
       "      <td>...</td>\n",
       "      <td>...</td>\n",
       "      <td>...</td>\n",
       "      <td>...</td>\n",
       "      <td>...</td>\n",
       "      <td>...</td>\n",
       "    </tr>\n",
       "    <tr>\n",
       "      <th>1333</th>\n",
       "      <td>50</td>\n",
       "      <td>male</td>\n",
       "      <td>30.970</td>\n",
       "      <td>3</td>\n",
       "      <td>no</td>\n",
       "      <td>northwest</td>\n",
       "      <td>10600.54830</td>\n",
       "    </tr>\n",
       "    <tr>\n",
       "      <th>1334</th>\n",
       "      <td>18</td>\n",
       "      <td>female</td>\n",
       "      <td>31.920</td>\n",
       "      <td>0</td>\n",
       "      <td>no</td>\n",
       "      <td>northeast</td>\n",
       "      <td>2205.98080</td>\n",
       "    </tr>\n",
       "    <tr>\n",
       "      <th>1335</th>\n",
       "      <td>18</td>\n",
       "      <td>female</td>\n",
       "      <td>36.850</td>\n",
       "      <td>0</td>\n",
       "      <td>no</td>\n",
       "      <td>southeast</td>\n",
       "      <td>1629.83350</td>\n",
       "    </tr>\n",
       "    <tr>\n",
       "      <th>1336</th>\n",
       "      <td>21</td>\n",
       "      <td>female</td>\n",
       "      <td>25.800</td>\n",
       "      <td>0</td>\n",
       "      <td>no</td>\n",
       "      <td>southwest</td>\n",
       "      <td>2007.94500</td>\n",
       "    </tr>\n",
       "    <tr>\n",
       "      <th>1337</th>\n",
       "      <td>61</td>\n",
       "      <td>female</td>\n",
       "      <td>29.070</td>\n",
       "      <td>0</td>\n",
       "      <td>yes</td>\n",
       "      <td>northwest</td>\n",
       "      <td>29141.36030</td>\n",
       "    </tr>\n",
       "  </tbody>\n",
       "</table>\n",
       "<p>1338 rows × 7 columns</p>\n",
       "</div>"
      ],
      "text/plain": [
       "      age     sex     bmi  children smoker     region      charges\n",
       "0      19  female  27.900         0    yes  southwest  16884.92400\n",
       "1      18    male  33.770         1     no  southeast   1725.55230\n",
       "2      28    male  33.000         3     no  southeast   4449.46200\n",
       "3      33    male  22.705         0     no  northwest  21984.47061\n",
       "4      32    male  28.880         0     no  northwest   3866.85520\n",
       "...   ...     ...     ...       ...    ...        ...          ...\n",
       "1333   50    male  30.970         3     no  northwest  10600.54830\n",
       "1334   18  female  31.920         0     no  northeast   2205.98080\n",
       "1335   18  female  36.850         0     no  southeast   1629.83350\n",
       "1336   21  female  25.800         0     no  southwest   2007.94500\n",
       "1337   61  female  29.070         0    yes  northwest  29141.36030\n",
       "\n",
       "[1338 rows x 7 columns]"
      ]
     },
     "execution_count": 38,
     "metadata": {},
     "output_type": "execute_result"
    }
   ],
   "source": [
    "df = pd.read_csv('insurance.csv')\n",
    "df"
   ]
  },
  {
   "cell_type": "code",
   "execution_count": 39,
   "metadata": {},
   "outputs": [
    {
     "data": {
      "text/plain": [
       "Index(['age', 'sex', 'bmi', 'children', 'smoker', 'region', 'charges'], dtype='object')"
      ]
     },
     "execution_count": 39,
     "metadata": {},
     "output_type": "execute_result"
    }
   ],
   "source": [
    "df.columns"
   ]
  },
  {
   "attachments": {},
   "cell_type": "markdown",
   "metadata": {},
   "source": [
    "**let start with preprocessing**"
   ]
  },
  {
   "cell_type": "code",
   "execution_count": 40,
   "metadata": {},
   "outputs": [
    {
     "data": {
      "text/plain": [
       "(1337, 7)"
      ]
     },
     "execution_count": 40,
     "metadata": {},
     "output_type": "execute_result"
    }
   ],
   "source": [
    "#dropping the duplicates if there any from the dataset\n",
    "df.drop_duplicates(inplace =True)\n",
    "df.shape"
   ]
  },
  {
   "cell_type": "code",
   "execution_count": 41,
   "metadata": {},
   "outputs": [
    {
     "data": {
      "text/plain": [
       "count     1337.000\n",
       "mean     13279.121\n",
       "std      12110.360\n",
       "min       1121.874\n",
       "25%       4746.344\n",
       "50%       9386.161\n",
       "75%      16657.717\n",
       "max      63770.428\n",
       "Name: charges, dtype: float64"
      ]
     },
     "execution_count": 41,
     "metadata": {},
     "output_type": "execute_result"
    }
   ],
   "source": [
    "#let round up the values of the target to 3 decimal place and \n",
    "#then we display the statisticals values of the v=column\n",
    "round(df['charges'].describe(),3)"
   ]
  },
  {
   "cell_type": "code",
   "execution_count": 42,
   "metadata": {},
   "outputs": [],
   "source": [
    "#let encode some columns from text to numeric format using the ONE HOT ENCODER\n",
    "df = pd.get_dummies(df, columns = ['sex', 'smoker', 'region'], drop_first = True)"
   ]
  },
  {
   "cell_type": "code",
   "execution_count": 43,
   "metadata": {},
   "outputs": [],
   "source": [
    "#let assingn /divide the datasetg columns in target and train that is X AND Y\n",
    "X =df.drop(columns =['charges'], axis = 1)\n",
    "y = df['charges']"
   ]
  },
  {
   "cell_type": "code",
   "execution_count": 44,
   "metadata": {},
   "outputs": [
    {
     "name": "stdout",
     "output_type": "stream",
     "text": [
      "      age     bmi  children  sex_male  smoker_yes  region_northwest  \\\n",
      "0      19  27.900         0         0           1                 0   \n",
      "1      18  33.770         1         1           0                 0   \n",
      "2      28  33.000         3         1           0                 0   \n",
      "3      33  22.705         0         1           0                 1   \n",
      "4      32  28.880         0         1           0                 1   \n",
      "...   ...     ...       ...       ...         ...               ...   \n",
      "1333   50  30.970         3         1           0                 1   \n",
      "1334   18  31.920         0         0           0                 0   \n",
      "1335   18  36.850         0         0           0                 0   \n",
      "1336   21  25.800         0         0           0                 0   \n",
      "1337   61  29.070         0         0           1                 1   \n",
      "\n",
      "      region_southeast  region_southwest  \n",
      "0                    0                 1  \n",
      "1                    1                 0  \n",
      "2                    1                 0  \n",
      "3                    0                 0  \n",
      "4                    0                 0  \n",
      "...                ...               ...  \n",
      "1333                 0                 0  \n",
      "1334                 0                 0  \n",
      "1335                 1                 0  \n",
      "1336                 0                 1  \n",
      "1337                 0                 0  \n",
      "\n",
      "[1337 rows x 8 columns]\n"
     ]
    }
   ],
   "source": [
    "print(X)"
   ]
  },
  {
   "cell_type": "code",
   "execution_count": 45,
   "metadata": {},
   "outputs": [
    {
     "name": "stdout",
     "output_type": "stream",
     "text": [
      "0       16884.92400\n",
      "1        1725.55230\n",
      "2        4449.46200\n",
      "3       21984.47061\n",
      "4        3866.85520\n",
      "           ...     \n",
      "1333    10600.54830\n",
      "1334     2205.98080\n",
      "1335     1629.83350\n",
      "1336     2007.94500\n",
      "1337    29141.36030\n",
      "Name: charges, Length: 1337, dtype: float64\n"
     ]
    }
   ],
   "source": [
    "print(y)"
   ]
  },
  {
   "cell_type": "code",
   "execution_count": 46,
   "metadata": {},
   "outputs": [
    {
     "data": {
      "text/plain": [
       "((1069, 8), (268, 8), (1069,), (268,))"
      ]
     },
     "execution_count": 46,
     "metadata": {},
     "output_type": "execute_result"
    }
   ],
   "source": [
    "X_train, X_test, y_train, y_test = train_test_split(X,y ,test_size =0.20)\n",
    "X_train.shape, X_test.shape, y_train.shape, y_test.shape"
   ]
  },
  {
   "attachments": {},
   "cell_type": "markdown",
   "metadata": {},
   "source": [
    "Spliting the dataset into training and testing sets using the train_test_split function. We use 80% of the data for training and 20% for testing."
   ]
  },
  {
   "cell_type": "code",
   "execution_count": 47,
   "metadata": {},
   "outputs": [
    {
     "data": {
      "text/plain": [
       "0.7386137742980383"
      ]
     },
     "execution_count": 47,
     "metadata": {},
     "output_type": "execute_result"
    }
   ],
   "source": [
    "# Linear Regression\n",
    "linear_model = LinearRegression()\n",
    "linear_model.fit(X_train, y_train)\n",
    "linear_model.score(X_test, y_test)\n"
   ]
  },
  {
   "cell_type": "code",
   "execution_count": 48,
   "metadata": {},
   "outputs": [
    {
     "data": {
      "text/plain": [
       "array([10849.62308511, 14369.92211128, 14530.49683516,  7503.95500444,\n",
       "       12926.08621194, 16941.28671146,  8921.36021761, 14838.35388481,\n",
       "       12151.5280781 ,  4219.58839496, 10396.68807615, 10041.90580283,\n",
       "       10683.05740429, 40184.84110468, 13877.20209154, 11034.6873108 ,\n",
       "       30583.57382354,  2115.81223611, 30566.98161152,  1190.9310126 ,\n",
       "       10798.2935157 ,  2045.0101871 ,  9634.72686604,  8589.55636323,\n",
       "       12591.95871978, 12797.32137618, 11177.80271458, 13116.04196653,\n",
       "       36090.86370669,  8502.20789445,  5707.17288486, 29074.9974776 ,\n",
       "        5374.79839179,  6955.87293021,  1456.02302722,  2638.75167391,\n",
       "        2286.19590062,  3515.03177021,  5080.95533813, 11613.49047329,\n",
       "        8896.16614733, 15449.33735358,  2509.31801875,  5684.10188377,\n",
       "        -890.42166518, 12940.8081657 , 12589.59019573,  2352.56959353,\n",
       "        7837.38697613, 32730.22950297,  9851.85181713,  4111.79253999,\n",
       "       11982.90787097, 26763.88621272, 13747.25024084, -1196.74346568,\n",
       "        2889.86544483,   526.02898079,  1962.25818489,  9070.60943547,\n",
       "        8618.65122376, 13048.52007036,  2102.12722291,  9926.71291582,\n",
       "        2742.477463  , 35192.38140302, 11836.16113156, 10468.33912665,\n",
       "       32323.94691548,  5464.23461175, 10803.59655331,  8677.62567846,\n",
       "       10618.44429993, 27013.05340196,  5368.81731596, 13000.88683853,\n",
       "       11303.90278907, 15906.60483877, 13518.96667069,  4464.02599741,\n",
       "       29954.40271916,  4513.05809789,  8144.46194841,  4547.11796962,\n",
       "       39229.1925953 ,  1038.75153474, 40427.2953457 , 13088.29918475,\n",
       "        6939.34376252, 29471.78925855, 14760.89871011, 12083.58238204,\n",
       "        6012.13016064, 11751.30131397, 37250.05475275, 11516.32402562,\n",
       "        3421.39996421, 15320.02876068, 26665.54021249, 31375.73600188,\n",
       "        5048.85048348, 12706.03054839,  2893.45451303, 11263.41953405,\n",
       "        6990.21699417, 14923.2137024 , 10445.79934961, 26628.42387905,\n",
       "        9775.44749179,  9720.72043527,  7305.01335241,   978.48788976,\n",
       "        8114.62533436, 17113.22326322, 12435.6451267 ,  4925.87951014,\n",
       "       14690.95966711, 37402.91694477, 33429.9761241 , 32744.13185431,\n",
       "        8423.61173161, 25427.28740905, 15986.26987709, 33431.03497236,\n",
       "        7797.99547185,  9209.33527285, 14091.35059367,  3496.23492306,\n",
       "       29054.78185345, 33797.59992258, 18441.80103478,  2590.24595701,\n",
       "        9061.61970686, 26319.36780928, 13193.17679463, 32274.5187148 ,\n",
       "       28093.89942644, 16159.3435882 , 13119.56955762, 25201.20365391,\n",
       "        1732.16963471,  2339.61320955, 13691.21172708, 13779.77110403,\n",
       "       12594.39397321,  7312.33911463,  7471.28721409, 26772.50035243,\n",
       "        7518.97627408, 35452.77674202, 29692.04032356, 12929.17035502,\n",
       "        5092.43006295, 17315.03360978, 36715.62009487,  9846.59739257,\n",
       "        9118.76144976, 15813.33467292, 29039.79620271,  8555.90697688,\n",
       "        7582.33608335, 12813.49843855, 14578.81759593, 35128.4009927 ,\n",
       "        9785.30826403, 29621.77410819,  6388.86116918,  5795.31992428,\n",
       "        7152.57255758,  9386.63577712,  7932.37748908,  3603.05047841,\n",
       "       10640.42774807,  1512.8368053 ,  3562.07897947, 39095.27634344,\n",
       "       10738.39755645, 11213.64568005,  1566.22500309,  3745.14182602,\n",
       "       33004.16058491, 10561.1384608 ,  5206.01407239,  6236.20629542,\n",
       "        3837.35088941, 16551.81908854, 32284.66465852,  4390.93229595,\n",
       "        8767.37999186,  4721.20377974,  1923.05392839, 36407.91087299,\n",
       "        9237.59229428,  6182.13907043,  3666.16468127, 13863.18486532,\n",
       "       29475.5908084 ,  6130.66465621, 34329.60360635,  2122.80436422,\n",
       "        4551.03844234,  1356.48984752, 11408.18632709,  2246.62989221,\n",
       "       10054.53234844, 36523.59140534,  9273.69954364, 10528.72347594,\n",
       "        3925.00586777,  6437.63059909,  7136.41554232, 28193.31573192,\n",
       "       13655.08456937,  8205.32786933, 16627.21135553, 33498.66556766,\n",
       "         313.05803724,  9852.29850832, 14238.73632129, 11304.19686242,\n",
       "       12466.6590391 ,  2286.38087277, 13798.27994182, 10397.32300408,\n",
       "         257.87149189, 14125.85051865, 30053.44085485, 10193.01358441,\n",
       "        5224.92599093,  1682.20400311,  8478.55382167,  3124.58101415,\n",
       "        6515.70074297, 16378.67641761, 32661.7427575 , 35741.50033482,\n",
       "       11507.06821136, 16068.57716605,  3353.77803518,  9072.52086043,\n",
       "       10545.97080482, 14935.55567511,  3195.10691285, 12511.45499951,\n",
       "       12725.95352895,  4658.24120575,  6011.68248048, 11185.16424182,\n",
       "        7215.05309774,  8027.95954776, 15003.40779032,  9871.19356519,\n",
       "       33464.73496573, 11796.53265707,  7325.91646807,  7508.87849726,\n",
       "       28435.09552598,  9854.2752115 ,  8039.61260681, 23024.36654997,\n",
       "        9840.802023  ,  9749.65180787,  3901.00036799,  4571.87485975,\n",
       "        7723.69214349,  6805.95472842,  8236.37693844, 12253.01546637])"
      ]
     },
     "execution_count": 48,
     "metadata": {},
     "output_type": "execute_result"
    }
   ],
   "source": [
    "linear_predictions = linear_model.predict(X_test)\n",
    "linear_predictions"
   ]
  },
  {
   "cell_type": "code",
   "execution_count": 49,
   "metadata": {},
   "outputs": [
    {
     "data": {
      "text/plain": [
       "0.8360576394037292"
      ]
     },
     "execution_count": 49,
     "metadata": {},
     "output_type": "execute_result"
    }
   ],
   "source": [
    "# Polynomial Regression\n",
    "poly_features =PolynomialFeatures(degree =2)\n",
    "X_train_poly = poly_features.fit_transform(X_train)\n",
    "X_test_poly = poly_features.transform(X_test)\n",
    "\n",
    "poly_model = LinearRegression()\n",
    "poly_model.fit(X_train_poly, y_train)\n",
    "poly_model.score(X_test_poly, y_test)\n"
   ]
  },
  {
   "cell_type": "code",
   "execution_count": 50,
   "metadata": {},
   "outputs": [
    {
     "data": {
      "text/plain": [
       "array([10852.04544161, 13760.24597081, 16249.64232434,  9218.9014065 ,\n",
       "       10732.74206177, 12255.62731685, 11330.85976424, 11453.3437041 ,\n",
       "        9118.7560696 ,  5039.86967447, 14401.7160609 ,  7872.33297887,\n",
       "        9182.60416859, 56396.38038481, 15446.09809856,  8871.22602875,\n",
       "       30170.14044256,  4692.03067514, 35341.7577903 ,  2878.26799129,\n",
       "        7549.08417227,  2030.41942957,  7794.48395783,  8432.19191548,\n",
       "       13713.47633912, 13558.42599804, 12196.64704747, 12986.26518085,\n",
       "       40994.56849372,  4374.66176429,  4632.90044686, 22713.26055093,\n",
       "        7769.58221325,  6392.5739315 ,  4322.59919948,  4017.1232139 ,\n",
       "        3346.65562492,  4173.49253332,  4513.88531163, 12171.16393568,\n",
       "        9108.87297961, 14048.89668366,  3370.77160873,  8292.55843753,\n",
       "        1835.02524973, 10238.66699078, 11270.93018174,  5207.86274584,\n",
       "        4663.60855007, 38202.95625328,  9764.25796666,  5198.67595481,\n",
       "        3508.51443904, 25099.34712475, 15369.71726968,  3638.74254367,\n",
       "        4070.36146319,  2681.02817556,  3229.02931444, 13472.80723628,\n",
       "        9362.04806663, 12060.04702017,  2961.99989239,  8891.35964265,\n",
       "        4842.81448465, 30850.53218198,  9974.56843065, 12244.42707158,\n",
       "       35585.39684694,  6476.30864583,  9185.31157586,  5979.98265923,\n",
       "       11147.70686709, 18011.4760282 ,  8228.0020507 ,  8903.21959422,\n",
       "       12257.92503234, 14506.5361327 , 11757.44281043,  6182.86283865,\n",
       "       36140.38417836,  4574.26844756,  8633.51981361,  6854.18312615,\n",
       "       47382.33365837,  3097.92571924, 49030.8593951 , 10908.97863845,\n",
       "        5288.90817186, 41769.80822532, 15744.94845263, 14031.46126259,\n",
       "        5834.788011  ,  8414.08729034, 42787.74320793,  9567.84576443,\n",
       "        4730.17623615, 15709.4209853 , 25365.57445416, 33378.58428627,\n",
       "        4739.85325478, 15601.38503094,  4587.20146593, 11025.50441088,\n",
       "        8393.36259455, 13214.01255301,  9467.18068998, 24830.4222692 ,\n",
       "       -2362.52529997, 11575.75800668,  4926.85782286,  3207.73734651,\n",
       "        8235.33475934, 15878.24021636, 12805.72348878,  2264.5628915 ,\n",
       "       14209.6430483 , 49480.72138648, 32749.00377526, 40220.39140799,\n",
       "        8272.57348114, 23863.84480003, 13186.60222977, 29763.57249724,\n",
       "        7275.48928735,  7170.35253279, 10474.53364114,  1801.4026271 ,\n",
       "       25954.11558683, 26898.73208584, 11045.57588177,  4212.05663645,\n",
       "        9067.06919058, 26024.41437689, 13768.53921715, 31178.96591992,\n",
       "       28531.68607443, 13212.74490859, 13427.68507845, 25387.63175492,\n",
       "        3452.30677953,  2749.2639292 , 13678.57322202, 12967.6438176 ,\n",
       "       12327.86272144,  5626.72205492,  7395.07712322, 23503.35905856,\n",
       "        6690.76945407, 36471.80643722, 35057.23082137, 10167.54365631,\n",
       "        5918.66018382, 12038.3186693 , 40844.80520731,  8636.44091698,\n",
       "       11907.4432239 , 14538.22292845, 23770.20033717,  9228.67716532,\n",
       "        6143.91209978, 11274.32698654, 12737.74688542, 40450.38940011,\n",
       "        7808.96952462, 17627.94423165,  3835.54017596,  3337.86515805,\n",
       "        8568.83425212,  7799.45163813,  7483.85738448,  4683.35445641,\n",
       "        8464.30467078,  3399.51588018,  4429.98936716, 48335.79497356,\n",
       "       10552.11406918, 13975.64781399,  3046.81475835,  5000.50785827,\n",
       "       28355.32443377, 12317.98093766,  7375.61697475,  6456.32167573,\n",
       "        5120.0844331 , 11949.84901678, 23603.85958688,  3174.71825721,\n",
       "        9880.98625284,  2752.87014204,  6957.08744332, 41277.5205125 ,\n",
       "        6400.43059642,  8523.89476173,  4639.99280648, 12151.7798926 ,\n",
       "       21494.83514349,  6123.23013532, 33668.05017522,  4889.85882129,\n",
       "        2043.56577359,  4971.6478452 , 11926.73527285,  4087.88371982,\n",
       "       13668.4875625 , 33251.89193003,  5387.66880153,  7090.1179215 ,\n",
       "        1692.50795261,   774.5680343 ,  8010.28107231, 35288.18634002,\n",
       "       13725.86602038,  7427.94095495, 15429.88204915, 46808.0706227 ,\n",
       "        3507.23646451,  9176.89754527, 12556.17091218, 11530.4277735 ,\n",
       "       11864.90019559,  3057.30088795, 14009.00002443, 10409.21376061,\n",
       "        3271.56742299, 14310.09965567, 37449.6773412 ,  5692.21781454,\n",
       "        2134.94507517,  2054.01030411, 10220.68331901,  2901.39019071,\n",
       "        5215.67885018, 13186.11057598, 41923.65111268, 44485.95721519,\n",
       "        5870.19437819, 15154.51576304,  2660.04000266,  7540.95773477,\n",
       "       14179.40095966, 14893.62662882,  3330.4777907 , 13399.86002417,\n",
       "       13270.31963211,  3748.63369224,  5959.37166437, 12891.75936309,\n",
       "        8438.33168907,  8666.91668616, 15987.51567724, 10054.42220563,\n",
       "       35613.41287208, 10846.09506475,  1779.1360925 ,  6677.16547555,\n",
       "       36788.7747974 , 10154.17170229,  8615.88231744, 15650.69070577,\n",
       "       10285.97386714, 10900.25485382,  4165.52406405,  2480.56250978,\n",
       "        8060.0747757 ,  7754.3132135 ,  9410.40630483, 11265.53005248])"
      ]
     },
     "execution_count": 50,
     "metadata": {},
     "output_type": "execute_result"
    }
   ],
   "source": [
    "poly_predictions = poly_model.predict(X_test_poly)\n",
    "poly_predictions"
   ]
  },
  {
   "attachments": {},
   "cell_type": "markdown",
   "metadata": {},
   "source": [
    "\n",
    "Continue by creating a Linear Regression model. We create a LinearRegression object, fit it to the training data, and predict on the test data. The model has been trained to predict the variable \"charges\" The model's performance is assessed using the root mean squared error (RMSE) and R-squared metrics.\n",
    "\n",
    "\n",
    "Then, with degree 2, construct a Polynomial Regression model. We use Scikit-learn's PolynomialFeatures transformer to generate polynomial features up to degree 2, then fit a Linear Regression model to the transformed data. We make predictions on the test data once more and evaluate the model's performance."
   ]
  },
  {
   "cell_type": "code",
   "execution_count": 52,
   "metadata": {},
   "outputs": [],
   "source": [
    "#model evaluation\n",
    "\n",
    "linear_rmse = np.sqrt(mean_absolute_error(y_test, linear_predictions))\n",
    "linear_r2 = r2_score(y_test, poly_predictions)\n",
    "\n",
    "#for the polynomial\n",
    "poly_rmse = np.sqrt(mean_absolute_error(y_test, poly_predictions))\n",
    "poly_r2 =r2_score(y_test, poly_predictions)"
   ]
  },
  {
   "cell_type": "code",
   "execution_count": 53,
   "metadata": {},
   "outputs": [
    {
     "name": "stdout",
     "output_type": "stream",
     "text": [
      "Linear Regression:\n",
      "RMSE: 66.49921185964502\n",
      "R-squared: 0.8360576394037292\n",
      "\n",
      "Polynomial Regression (degree=2):\n",
      "RMSE: 55.31401502706922\n",
      "R-squared: 0.8360576394037292\n"
     ]
    }
   ],
   "source": [
    "# Print the evaluation results\n",
    "print(\"Linear Regression:\")\n",
    "print(\"RMSE:\", linear_rmse)\n",
    "print(\"R-squared:\", linear_r2)\n",
    "\n",
    "print(\"\\nPolynomial Regression (degree=2):\")\n",
    "print(\"RMSE:\", poly_rmse)\n",
    "print(\"R-squared:\", poly_r2)"
   ]
  },
  {
   "attachments": {},
   "cell_type": "markdown",
   "metadata": {},
   "source": [
    "**Linear Regression:**\n",
    "\n",
    "**RMSE (Root Mean Squared Error):** The RMSE value of 61.549 indicates the average difference between the predicted values and the actual values of the dependent variable. A lower RMSE indicates a better fit of the model to the data.\n",
    "\n",
    "**R-squared:** The R-squared value of 0.8857 represents the proportion of the variance in the dependent variable that can be explained by the independent variables. A higher R-squared value indicates a better fit of the model, with 88.57% of the variability in the dependent variable being accounted for by the independent variables.\n",
    "\n",
    "**Polynomial Regression (degree=2):**\n",
    "\n",
    "RMSE: The RMSE value of 50.041 suggests a slightly better fit compared to the Linear Regression model. The lower RMSE indicates that the Polynomial Regression model with a degree of 2 has a smaller average difference between predicted and actual values.\n",
    "\n",
    "**R-squared:**Interestingly, the R-squared value remains the same as the Linear Regression model at 0.8857. This indicates that both models explain the same proportion of the variance in the dependent variable.\n",
    "\n",
    "\n",
    "In summary, the Polynomial Regression model with a degree of 2 performs slightly better than the Linear Regression model, as indicated by the lower RMSE value. However, both models explain a similar amount of variability in the dependent variable, as evident from the identical R-squared values."
   ]
  },
  {
   "cell_type": "code",
   "execution_count": 55,
   "metadata": {},
   "outputs": [
    {
     "data": {
      "image/png": "[encoded data removed]",
      "text/plain": [
       "<Figure size 432x288 with 1 Axes>"
      ]
     },
     "metadata": {
      "needs_background": "light"
     },
     "output_type": "display_data"
    }
   ],
   "source": [
    "\n",
    "plt.scatter(y_test, linear_predictions)\n",
    "plt.plot([y_test.min(), y_test.max()], [y_test.min(), y_test.max()], color='r', linestyle='--')\n",
    "plt.title('Linear Regression - Actual vs Predicted')\n",
    "plt.xlabel('Actual Values')\n",
    "plt.ylabel('Predicted Values')\n",
    "plt.show()"
   ]
  },
  {
   "cell_type": "code",
   "execution_count": 56,
   "metadata": {},
   "outputs": [
    {
     "data": {
      "image/png": "[encoded data removed]",
      "text/plain": [
       "<Figure size 432x288 with 1 Axes>"
      ]
     },
     "metadata": {
      "needs_background": "light"
     },
     "output_type": "display_data"
    }
   ],
   "source": [
    "plt.scatter(y_test, poly_predictions)\n",
    "plt.plot([y_test.min(), y_test.max()], [y_test.min(), y_test.max()], color='r', linestyle='--')\n",
    "plt.title('Polynomial Regression - Actual vs Predicted')\n",
    "plt.xlabel('Actual Values')\n",
    "plt.ylabel('Predicted Values')\n",
    "plt.show()"
   ]
  },
  {
   "cell_type": "code",
   "execution_count": null,
   "metadata": {},
   "outputs": [],
   "source": []
  }
 ],
 "metadata": {
  "kernelspec": {
   "display_name": "base",
   "language": "python",
   "name": "python3"
  },
  "language_info": {
   "codemirror_mode": {
    "name": "ipython",
    "version": 3
   },
   "file_extension": ".py",
   "mimetype": "text/x-python",
   "name": "python",
   "nbconvert_exporter": "python",
   "pygments_lexer": "ipython3",
   "version": "3.8.8"
  },
  "orig_nbformat": 4
 },
 "nbformat": 4,
 "nbformat_minor": 2
}
