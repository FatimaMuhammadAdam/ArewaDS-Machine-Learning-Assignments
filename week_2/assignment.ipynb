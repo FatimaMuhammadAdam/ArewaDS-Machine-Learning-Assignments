{
 "cells": [
  {
   "attachments": {},
   "cell_type": "markdown",
   "metadata": {},
   "source": [
    "# **Assignment for Data Processing in Python**\n",
    "\n",
    "In this assignment, we will ask you to elaborate on the code we have started developing in our challenges. The assignment consists of two parts:\n",
    "\n",
    "COVID-19 Spread Modelling\n",
    " Plot Rt graphs for 5-6 different countries on one plot for comparison, or using several plots side-by-side\n",
    " See how the number of deaths and recoveries correlate with number of infected cases.\n",
    " Find out how long a typical disease lasts by visually correlating infection rate and deaths rate and looking for some anomalies. You may need to look at different countries to find that out.\n",
    " Calculate the fatality rate and how it changes over time. You may want to take into account the length of the disease in days to shift one time series before doing calculations"
   ]
  },
  {
   "cell_type": "code",
   "execution_count": null,
   "metadata": {},
   "outputs": [],
   "source": [
    "import numpy as np\n",
    "import pandas as pd\n"
   ]
  },
  {
   "attachments": {},
   "cell_type": "markdown",
   "metadata": {},
   "source": [
    "# **COVID-19 Papers Analysis**\n",
    " Build co-occurrence matrix of different medications, and see which medications often occur together (i.e. mentioned in one abstract). You can modify the code for building co-occurrence matrix for medications and diagnoses.\n",
    " Visualize this matrix using heatmap.\n",
    " As a stretch goal, visualize the co-occurrence of medications using chord diagram. This library may help you draw a chord diagram.\n",
    " As another stretch goal, extract dosages of different medications (such as 400mg in take 400mg of chloroquine daily) using regular expressions, and build dataframe that shows different dosages for different medications. Note: consider numeric values that are in close textual vicinity of the medicine name."
   ]
  },
  {
   "attachments": {},
   "cell_type": "markdown",
   "metadata": {},
   "source": []
  }
 ],
 "metadata": {
  "kernelspec": {
   "display_name": "base",
   "language": "python",
   "name": "python3"
  },
  "language_info": {
   "name": "python",
   "version": "3.8.8"
  },
  "orig_nbformat": 4
 },
 "nbformat": 4,
 "nbformat_minor": 2
}
