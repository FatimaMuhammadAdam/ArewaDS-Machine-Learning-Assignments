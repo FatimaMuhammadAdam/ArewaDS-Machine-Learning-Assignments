{
 "cells": [
  {
   "attachments": {},
   "cell_type": "markdown",
   "metadata": {},
   "source": [
    "**Please check the link bellow for the excelsheet**\n",
    "\n",
    "https://docs.google.com/spreadsheets/d/1XFoPZ_jYEvUuEEKYzJwFQJXogaQ2waiJB226Z9-LNZs/edit#gid=377056360\n"
   ]
  },
  {
   "cell_type": "code",
   "execution_count": null,
   "metadata": {},
   "outputs": [],
   "source": []
  }
 ],
 "metadata": {
  "language_info": {
   "name": "python"
  },
  "orig_nbformat": 4
 },
 "nbformat": 4,
 "nbformat_minor": 2
}
