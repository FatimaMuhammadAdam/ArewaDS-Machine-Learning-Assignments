{
  "nbformat": 4,
  "nbformat_minor": 0,
  "metadata": {
    "colab": {
      "provenance": []
    },
    "kernelspec": {
      "name": "python3",
      "display_name": "Python 3"
    },
    "language_info": {
      "name": "python"
    }
  },
  "cells": [
    {
      "cell_type": "markdown",
      "source": [
        "# Time Series\n",
        "\n",
        "🎓 Time series\n",
        "\n",
        "In mathematics, \"a time series is a series of data points indexed (or listed or graphed) in time order. Most commonly, a time series is a sequence taken at successive equally spaced points in time.\" An example of a time series is the daily closing value of the Dow Jones Industrial Average. The use of time series plots and statistical modeling is frequently encountered in signal processing, weather forecasting, earthquake prediction, and other fields where events occur and data points can be plotted over time.\n",
        "\n",
        "🎓 Time series analysis\n",
        "\n",
        "Time series analysis, is the analysis of the above mentioned time series data. Time series data can take distinct forms, including 'interrupted time series' which detects patterns in a time series' evolution before and after an interrupting event. The type of analysis needed for the time series, depends on the nature of the data. Time series data itself can take the form of series of numbers or characters.\n",
        "\n",
        "The analysis to be performed, uses a variety of methods, including frequency-domain and time-domain, linear and nonlinear, and more. Learn more about the many ways to analyze this type of data.\n",
        "\n",
        "🎓 Time series forecasting\n",
        "\n",
        "Time series forecasting is the use of a model to predict future values based on patterns displayed by previously gathered data as it occurred in the past. While it is possible to use regression models to explore time series data, with time indices as x variables on a plot, such data is best analyzed using special types of models.\n",
        "\n",
        "Time series data is a list of ordered observations, unlike data that can be analyzed by linear regression. The most common one is ARIMA, an acronym that stands for \"Autoregressive Integrated Moving Average\".\n",
        "\n",
        "ARIMA models \"relate the present value of a series to past values and past prediction errors.\" They are most appropriate for analyzing time-domain data, where data is ordered over time."
      ],
      "metadata": {
        "id": "yisOrrCnEphM"
      }
    },
    {
      "cell_type": "markdown",
      "source": [
        "Time Series data characteristics to consider\n",
        "When looking at time series data, you might notice that it has certain characteristics that you need to take into account and mitigate to better understand its patterns. If you consider time series data as potentially providing a 'signal' that you want to analyze, these characteristics can be thought of as 'noise'. You often will need to reduce this 'noise' by offsetting some of these characteristics using some statistical techniques.\n",
        "\n",
        "Here are some concepts you should know to be able to work with time series:\n",
        "\n",
        "🎓 Trends\n",
        "\n",
        "Trends are defined as measurable increases and decreases over time. Read more. In the context of time series, it's about how to use and, if necessary, remove trends from your time series.\n",
        "\n",
        "🎓 Seasonality\n",
        "\n",
        "Seasonality is defined as periodic fluctuations, such as holiday rushes that might affect sales, for example. Take a look at how different types of plots display seasonality in data.\n",
        "\n",
        "🎓 Outliers\n",
        "\n",
        "Outliers are far away from the standard data variance.\n",
        "\n",
        "🎓 Long-run cycle\n",
        "\n",
        "Independent of seasonality, data might display a long-run cycle such as an economic down-turn that lasts longer than a year.\n",
        "\n",
        "🎓 Constant variance\n",
        "\n",
        "Over time, some data display constant fluctuations, such as energy usage per day and night.\n",
        "\n",
        "🎓 Abrupt changes\n",
        "\n",
        "The data might display an abrupt change that might need further analysis. The abrupt shuttering of businesses due to COVID, for example, caused changes in data."
      ],
      "metadata": {
        "id": "z5bSYNHkGjK8"
      }
    },
    {
      "cell_type": "code",
      "source": [],
      "metadata": {
        "id": "5dDeFIDXE5eu"
      },
      "execution_count": null,
      "outputs": []
    }
  ]
}